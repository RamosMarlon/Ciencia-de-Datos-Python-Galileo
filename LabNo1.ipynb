{
 "cells": [
  {
   "cell_type": "markdown",
   "id": "0374c974-661d-4ae1-b987-2311e32d405e",
   "metadata": {},
   "source": [
    "# Marlon René, Ramos Fernández"
   ]
  },
  {
   "cell_type": "markdown",
   "id": "9b3a01b5-b26c-49b1-af4c-03a4389c442c",
   "metadata": {
    "tags": []
   },
   "source": [
    "# Carné 17011777"
   ]
  },
  {
   "cell_type": "markdown",
   "id": "3ca642c2-8ec2-4ce7-bcd1-a6e419f7e326",
   "metadata": {},
   "source": [
    "# Git, GitHub y Markdown"
   ]
  },
  {
   "cell_type": "markdown",
   "id": "148fdaec-7d8a-4d4d-924e-5abdd8f3fa17",
   "metadata": {},
   "source": [
    "## ¿Qué es Git?"
   ]
  },
  {
   "cell_type": "markdown",
   "id": "a6fffcaa-ce38-49b3-adaf-39a8e27344a2",
   "metadata": {},
   "source": [
    "Git es un sistema de control de versiones distribuido que permite a los desarrolladores colaborar y realizar cambios en proyectos compartidos, manteniendo un seguimiento detallado de su progreso. Diseñado por Linus Torvalds, el famoso creador del kernel del sistema operativo Linux. Git es muy utilizado en el desarrollo de software por su eficiencia, flexibilidad y capacidad para gestionar proyectos de cualquier tamaño."
   ]
  },
  {
   "cell_type": "markdown",
   "id": "07ba6b52-8487-4a4d-8741-d59eb7e4b95c",
   "metadata": {},
   "source": [
    "## ¿Qué es GitHub?"
   ]
  },
  {
   "cell_type": "markdown",
   "id": "82bc3cf0-e4bc-4821-9381-4c98c04a8ca5",
   "metadata": {},
   "source": [
    "GitHub es una plataforma basada en la web que incorpora las características de control de versiones de Git para que puedan ser utilizadas de forma colaborativa. Permite a los desarrolladores colaborar y realizar cambios en proyectos compartidos, a la vez que mantienen un seguimiento detallado de su progreso. GitHub fue adquirido por Microsoft en 2018."
   ]
  },
  {
   "cell_type": "markdown",
   "id": "13644ad0-703c-4e39-8f16-b94df3eb296f",
   "metadata": {},
   "source": [
    "## Markdown y sus comandos"
   ]
  },
  {
   "cell_type": "markdown",
   "id": "056ede68-a066-435a-b4af-6bc2d7eed427",
   "metadata": {},
   "source": [
    "Markdown es un lenguaje de marcado ligero que puedes usar para añadir formato a texto en la web. A continuación, me permito presentar un ejemplo:"
   ]
  },
  {
   "cell_type": "markdown",
   "id": "f20ff043-7df1-494d-98af-028415e934e3",
   "metadata": {},
   "source": [
    "```markdown"
   ]
  },
  {
   "cell_type": "markdown",
   "id": "4f6d5856-8dc3-4885-9dc5-5779204123a1",
   "metadata": {},
   "source": [
    "# Título Principal"
   ]
  },
  {
   "cell_type": "markdown",
   "id": "a98a96dd-4ef2-497a-9d86-c6bdcd26293e",
   "metadata": {},
   "source": [
    "## Subtítulo"
   ]
  },
  {
   "cell_type": "markdown",
   "id": "459a10cb-4c0a-4a7c-9899-bf403cc89570",
   "metadata": {
    "tags": []
   },
   "source": [
    "Aquí el texto normal. Para agregarle **texto en negrita**, se debe rodear con dos asteriscos. Para *texto en cursiva*, usar un solo asterisco o guión bajo.\n",
    "\n",
    "Se puede crear listas de la siguiente manera:"
   ]
  },
  {
   "cell_type": "markdown",
   "id": "fd9cde2c-655b-4427-a134-d44dd918b5a4",
   "metadata": {},
   "source": [
    "- Elemento de la lista 1"
   ]
  },
  {
   "cell_type": "markdown",
   "id": "e0c02da1-ce72-4b5b-ae9f-8c594a8418c9",
   "metadata": {},
   "source": [
    "- Elemento de la lista 2"
   ]
  },
  {
   "cell_type": "markdown",
   "id": "ffabda0e-4050-4632-88e7-2573d743ba99",
   "metadata": {},
   "source": [
    "- Subelemento de la lista 2.1"
   ]
  },
  {
   "cell_type": "markdown",
   "id": "0606adf1-74cb-41b0-891d-1a16eb277e38",
   "metadata": {},
   "source": [
    " - Subelemento de la lista 2.2"
   ]
  },
  {
   "cell_type": "markdown",
   "id": "83afedd9-b206-4dfc-ad52-1c4dacb97d04",
   "metadata": {},
   "source": [
    "Y las listas se enumeran así:"
   ]
  },
  {
   "cell_type": "markdown",
   "id": "10495675-de4f-471f-ba4d-9f6607fe329b",
   "metadata": {},
   "source": [
    "1. Primer elemento"
   ]
  },
  {
   "cell_type": "markdown",
   "id": "7d9dbe1d-3aca-4c7a-a1af-72e1d97b0e5d",
   "metadata": {},
   "source": [
    "2. Segundo elemento"
   ]
  },
  {
   "cell_type": "markdown",
   "id": "e8ee35da-bdcd-47f1-a0f8-520a6f435464",
   "metadata": {},
   "source": [
    "3. Tercer elemento"
   ]
  },
  {
   "cell_type": "markdown",
   "id": "6c24f55f-d98d-4cf8-ad01-ac823eda2faf",
   "metadata": {},
   "source": [
    "Esto es un enlace"
   ]
  },
  {
   "cell_type": "markdown",
   "id": "aac82ea7-1501-4c9e-aa0e-adbeb7c5ee7c",
   "metadata": {},
   "source": [
    "1. Enlace 1"
   ]
  },
  {
   "cell_type": "markdown",
   "id": "635787d2-fe90-4daa-a0fc-93d476b0bf83",
   "metadata": {},
   "source": [
    "2. Enlace 2"
   ]
  },
  {
   "cell_type": "markdown",
   "id": "9a327d1d-4c44-4500-be29-c707d3820700",
   "metadata": {},
   "source": [
    "3. Enlace 3"
   ]
  },
  {
   "cell_type": "code",
   "execution_count": null,
   "id": "4fb7d06f-02e5-4551-a77e-16786f9e550a",
   "metadata": {},
   "outputs": [],
   "source": []
  }
 ],
 "metadata": {
  "kernelspec": {
   "display_name": "Python 3 (ipykernel)",
   "language": "python",
   "name": "python3"
  },
  "language_info": {
   "codemirror_mode": {
    "name": "ipython",
    "version": 3
   },
   "file_extension": ".py",
   "mimetype": "text/x-python",
   "name": "python",
   "nbconvert_exporter": "python",
   "pygments_lexer": "ipython3",
   "version": "3.11.5"
  }
 },
 "nbformat": 4,
 "nbformat_minor": 5
}
